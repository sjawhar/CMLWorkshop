{
 "cells": [
  {
   "cell_type": "markdown",
   "metadata": {},
   "source": [
    "# Computational Memory Lab Workshop\n",
    "\n",
    "### Introduction\n",
    "Welcome to the Computational Memory Lab (CML) Workshop on Cognitive Electrophysiology! In this Jupyter Notebook for Session 1, we'll walk through the course structure, learn about Jupyter, and review the basics of Numpy and Pandas. By the end of this lesson, you'll be able to start writing your own code in JupyterLab Notebooks and have some understanding of the core tools used for numerical analysis of big data in Python.\n",
    "\n",
    "### Python for Data Science\n",
    "For the sake of time, this workshop will assume you have a basic working knowledge of Python (e.g. data types, functions, loops, etc.). If you're looking for a refresher, check out some of these resources: \n",
    "* Codecademy (https://www.codecademy.com/learn/learn-python-3)\n",
    "* Coursera (https://www.coursera.org/learn/python-data-analysis)\n",
    "* Python Data Science Handbook (https://github.com/jakevdp/PythonDataScienceHandbook)\n",
    "\n",
    "Though this list is by no means exhaustive!\n",
    "\n",
    "### Basic course structure\n",
    "\n",
    "Our goal is to familiarize you with basic Python tools for data science and the libraries developed by our lab and others to facilitate EEG analyses. To that end, the course outline is as follows: \n",
    "\n",
    "* Session 1 - **Intro to Python basics, Jupyter Notebooks, Numpy, and Pandas**\n",
    "* Session 2 - **Data loading, experimental events, PTSA, and MNE**\n",
    "* Session 3 - **Univariate statistics, plotting, and nonparametric tests**\n",
    "* Session 4 - **Signal processing and spectral analysis**\n",
    "* Session 5 - **Analyzing single neuron correlates of spatial memory**\n",
    "* Session 6 - **Machine Learning I, sklearn, regression/classification**\n",
    "* Session 7 - **Machine Learning II, cross-validation, feature selection, other classifiers**\n",
    "* Session 8 - **Parallel computing**\n",
    "\n",
    "By the end of this sequence, you should be able to carry out EEG/iEEG/ECoG analyses, like computing spectral power and phase, and compute statistics or apply machine learning models to those data.\n",
    "\n",
    "### Jupyter Notebooks for Data Science\n",
    "The Jupyter Notebook (and Jupyter Lab) is a powerful interface to IPython for data science. The notebook structure keeps figures and outputs organized with their generating code, and supports integration with text and images. This lets data scientists (like you!) keep a full log of everything that went into an analysis or manuscript. The cell-based structure of Jupyter Notebooks -- as you'll see soon -- makes it easy to tweak analyses without needing to re-run your whole pipeline, saving lots of time. \n",
    "\n",
    "In the Computational Memory Lab, we run Jupyter Notebooks on a server (Rhino2), allowing access to analyses from anywhere (see referenced tutorial). This also makes it easy to load large amounts of EEG data and run parallel processes. It is also possible to install Jupyter Notebooks on your own computer and run them locally (Jupyter Lab comes with all default Anaconda installations). \n",
    "\n",
    "If you already have an account on Rhino2, you already have access to Jupyter Lab -- congratulations! Instructions for this are in the Rhino_Usage.ipynb file.\n",
    "\n",
    "If you have not already done so, please follow the instructions in the README.md file to setup your conda environment and configure JupyterLab to work with that environment.\n",
    "\n",
    "Jupyter Notebooks can do some amazing things, but we don't have the time to discuss them all. Check out this list for some inspiration: https://www.dataquest.io/blog/jupyter-notebook-tips-tricks-shortcuts/\n"
   ]
  },
  {
   "cell_type": "markdown",
   "metadata": {},
   "source": [
    "## Numpy: Efficient array / multidimensional numerical calculation in Python\n",
    "If you've used Python before, you're likely familiar with the numpy module, which essentially gifts Python with many useful array operations. If you are familiar with MATLAB, you will recognize a similarity between MATLAB features and those of numpy. Numpy lets you perform operations on large amounts of multidimensional data with near-native efficiency (meaning comparable to languages like C, C++, or Fortran).  This contrasts with the way Python lists would require lots of for-loops, which are less efficient in Python. Let's explore some of Numpy's functionality. "
   ]
  },
  {
   "cell_type": "markdown",
   "metadata": {},
   "source": [
    "### Creating arrays"
   ]
  },
  {
   "cell_type": "code",
   "execution_count": 1,
   "metadata": {},
   "outputs": [
    {
     "data": {
      "text/plain": [
       "array([ 0,  1,  7,  9, 12])"
      ]
     },
     "execution_count": 1,
     "metadata": {},
     "output_type": "execute_result"
    }
   ],
   "source": [
    "# First, the import statement\n",
    "import numpy as np\n",
    "\n",
    "# Make an array from an existing list\n",
    "np.array([0, 1, 7, 9, 12])"
   ]
  },
  {
   "cell_type": "code",
   "execution_count": 2,
   "metadata": {},
   "outputs": [
    {
     "data": {
      "text/plain": [
       "array([0, 1, 2, 3, 4, 5, 6, 7, 8, 9])"
      ]
     },
     "execution_count": 2,
     "metadata": {},
     "output_type": "execute_result"
    }
   ],
   "source": [
    "# Make a sequential array\n",
    "np.arange(0, 10)"
   ]
  },
  {
   "cell_type": "code",
   "execution_count": 3,
   "metadata": {},
   "outputs": [
    {
     "data": {
      "text/plain": [
       "array([[0., 0., 0., 0.],\n",
       "       [0., 0., 0., 0.],\n",
       "       [0., 0., 0., 0.]])"
      ]
     },
     "execution_count": 3,
     "metadata": {},
     "output_type": "execute_result"
    }
   ],
   "source": [
    "# Make a matrix of zeros\n",
    "np.zeros((3, 4))"
   ]
  },
  {
   "cell_type": "code",
   "execution_count": 4,
   "metadata": {},
   "outputs": [
    {
     "data": {
      "text/plain": [
       "array([[0.35465485, 0.24344105, 0.36482657, 0.82484241],\n",
       "       [0.47099207, 0.67348607, 0.02496079, 0.78482063],\n",
       "       [0.61154039, 0.69409429, 0.24553986, 0.58673032]])"
      ]
     },
     "execution_count": 4,
     "metadata": {},
     "output_type": "execute_result"
    }
   ],
   "source": [
    "# Make a matrix of random floats from 0 to 1\n",
    "np.random.random((3, 4))"
   ]
  },
  {
   "cell_type": "code",
   "execution_count": 5,
   "metadata": {},
   "outputs": [
    {
     "data": {
      "text/plain": [
       "array([[0, 0, 0],\n",
       "       [0, 0, 0],\n",
       "       [0, 0, 0]])"
      ]
     },
     "execution_count": 5,
     "metadata": {},
     "output_type": "execute_result"
    }
   ],
   "source": [
    "# Note that data types can be specified, e.g.\n",
    "np.zeros((3, 3), dtype='int')"
   ]
  },
  {
   "cell_type": "markdown",
   "metadata": {},
   "source": [
    "### Working with arrays\n",
    "These concepts will be very familiar to MATLAB users."
   ]
  },
  {
   "cell_type": "markdown",
   "metadata": {},
   "source": [
    "#### Array attributes"
   ]
  },
  {
   "cell_type": "code",
   "execution_count": 6,
   "metadata": {},
   "outputs": [],
   "source": [
    "np.random.seed(0)  # seed for reproducibility\n",
    "\n",
    "x1 = np.random.randint(10, size=6)  # One-dimensional array\n",
    "x2 = np.random.randint(10, size=(3, 4))  # Two-dimensional array\n",
    "x3 = np.random.randint(10, size=(3, 4, 5))  # Three-dimensional array"
   ]
  },
  {
   "cell_type": "code",
   "execution_count": 7,
   "metadata": {},
   "outputs": [
    {
     "name": "stdout",
     "output_type": "stream",
     "text": [
      "x3 ndim:  3\n",
      "x3 shape: (3, 4, 5)\n",
      "x3 size:  60\n",
      "x3 dtype: int64\n"
     ]
    }
   ],
   "source": [
    "# Get some array attributes\n",
    "print(\"x3 ndim: \", x3.ndim)\n",
    "print(\"x3 shape:\", x3.shape)\n",
    "print(\"x3 size: \", x3.size)\n",
    "print(\"x3 dtype:\", x3.dtype)"
   ]
  },
  {
   "cell_type": "markdown",
   "metadata": {},
   "source": [
    "#### Array indexing"
   ]
  },
  {
   "cell_type": "code",
   "execution_count": 8,
   "metadata": {},
   "outputs": [
    {
     "data": {
      "text/plain": [
       "array([5, 0, 3, 3, 7, 9])"
      ]
     },
     "execution_count": 8,
     "metadata": {},
     "output_type": "execute_result"
    }
   ],
   "source": [
    "x1"
   ]
  },
  {
   "cell_type": "code",
   "execution_count": 9,
   "metadata": {},
   "outputs": [
    {
     "data": {
      "text/plain": [
       "5"
      ]
     },
     "execution_count": 9,
     "metadata": {},
     "output_type": "execute_result"
    }
   ],
   "source": [
    "# Remember that Python is zero-indexed, meaning the first element is at index 0!\n",
    "x1[0]"
   ]
  },
  {
   "cell_type": "code",
   "execution_count": 10,
   "metadata": {},
   "outputs": [
    {
     "data": {
      "text/plain": [
       "7"
      ]
     },
     "execution_count": 10,
     "metadata": {},
     "output_type": "execute_result"
    }
   ],
   "source": [
    "# You can index into arrays in reverse order\n",
    "x1[-2]"
   ]
  },
  {
   "cell_type": "code",
   "execution_count": 11,
   "metadata": {},
   "outputs": [
    {
     "data": {
      "text/plain": [
       "array([[3, 5, 2, 4],\n",
       "       [7, 6, 8, 8],\n",
       "       [1, 6, 7, 7]])"
      ]
     },
     "execution_count": 11,
     "metadata": {},
     "output_type": "execute_result"
    }
   ],
   "source": [
    "x2"
   ]
  },
  {
   "cell_type": "code",
   "execution_count": 12,
   "metadata": {},
   "outputs": [
    {
     "data": {
      "text/plain": [
       "8"
      ]
     },
     "execution_count": 12,
     "metadata": {},
     "output_type": "execute_result"
    }
   ],
   "source": [
    "# Indexing goes by row, column\n",
    "x2[1, 2]"
   ]
  },
  {
   "cell_type": "code",
   "execution_count": 13,
   "metadata": {},
   "outputs": [
    {
     "name": "stdout",
     "output_type": "stream",
     "text": [
      "[[ 3  5  2  4]\n",
      " [ 7  6 99  8]\n",
      " [ 1  6  7  7]]\n"
     ]
    }
   ],
   "source": [
    "# You can reset values with the same notation\n",
    "x2[1, 2] = 99\n",
    "print(x2)"
   ]
  },
  {
   "cell_type": "markdown",
   "metadata": {},
   "source": [
    "#### Array slicing\n",
    "How to access sub-arrays. The general notation is as follows: \n",
    "\n",
    "<code>\n",
    "subarr = x[start:stop:step]\n",
    "</code>"
   ]
  },
  {
   "cell_type": "code",
   "execution_count": 14,
   "metadata": {},
   "outputs": [
    {
     "data": {
      "text/plain": [
       "array([0, 1, 2, 3, 4, 5, 6, 7, 8, 9])"
      ]
     },
     "execution_count": 14,
     "metadata": {},
     "output_type": "execute_result"
    }
   ],
   "source": [
    "x = np.arange(10)\n",
    "x"
   ]
  },
  {
   "cell_type": "code",
   "execution_count": 15,
   "metadata": {},
   "outputs": [
    {
     "data": {
      "text/plain": [
       "array([0, 1, 2, 3, 4])"
      ]
     },
     "execution_count": 15,
     "metadata": {},
     "output_type": "execute_result"
    }
   ],
   "source": [
    "x[:5] # the first five elements "
   ]
  },
  {
   "cell_type": "code",
   "execution_count": 16,
   "metadata": {},
   "outputs": [
    {
     "data": {
      "text/plain": [
       "array([5, 6, 7, 8, 9])"
      ]
     },
     "execution_count": 16,
     "metadata": {},
     "output_type": "execute_result"
    }
   ],
   "source": [
    "x[5:] # elements after index 5"
   ]
  },
  {
   "cell_type": "code",
   "execution_count": 17,
   "metadata": {},
   "outputs": [
    {
     "data": {
      "text/plain": [
       "array([3, 4, 5, 6])"
      ]
     },
     "execution_count": 17,
     "metadata": {},
     "output_type": "execute_result"
    }
   ],
   "source": [
    "x[3:7] # elements from index 3 to 7"
   ]
  },
  {
   "cell_type": "code",
   "execution_count": 18,
   "metadata": {},
   "outputs": [
    {
     "data": {
      "text/plain": [
       "array([0, 2, 4, 6, 8])"
      ]
     },
     "execution_count": 18,
     "metadata": {},
     "output_type": "execute_result"
    }
   ],
   "source": [
    "x[::2] # every other element"
   ]
  },
  {
   "cell_type": "code",
   "execution_count": 19,
   "metadata": {},
   "outputs": [
    {
     "data": {
      "text/plain": [
       "array([9, 8, 7, 6, 5, 4, 3, 2, 1, 0])"
      ]
     },
     "execution_count": 19,
     "metadata": {},
     "output_type": "execute_result"
    }
   ],
   "source": [
    "x[::-1] # array in reverse!"
   ]
  },
  {
   "cell_type": "code",
   "execution_count": 20,
   "metadata": {},
   "outputs": [
    {
     "data": {
      "text/plain": [
       "array([7, 8, 9])"
      ]
     },
     "execution_count": 20,
     "metadata": {},
     "output_type": "execute_result"
    }
   ],
   "source": [
    "x[-3:] # last three elements"
   ]
  },
  {
   "cell_type": "code",
   "execution_count": 21,
   "metadata": {},
   "outputs": [
    {
     "data": {
      "text/plain": [
       "array([[ 3,  5,  2],\n",
       "       [ 7,  6, 99]])"
      ]
     },
     "execution_count": 21,
     "metadata": {},
     "output_type": "execute_result"
    }
   ],
   "source": [
    "x2[:2, :3] # two rows, three columns"
   ]
  },
  {
   "cell_type": "code",
   "execution_count": 22,
   "metadata": {},
   "outputs": [
    {
     "name": "stdout",
     "output_type": "stream",
     "text": [
      "[47  3 76 52 78 15 20 99 58 23]\n"
     ]
    }
   ],
   "source": [
    "# \"Fancy indexing\" lets us use arrays/lists to access multiple elements of an array\n",
    "x = np.random.randint(100, size=10)\n",
    "print(x)"
   ]
  },
  {
   "cell_type": "code",
   "execution_count": 23,
   "metadata": {},
   "outputs": [
    {
     "data": {
      "text/plain": [
       "array([52, 99, 78])"
      ]
     },
     "execution_count": 23,
     "metadata": {},
     "output_type": "execute_result"
    }
   ],
   "source": [
    "ind = [3, 7, 4]\n",
    "x[ind]"
   ]
  },
  {
   "cell_type": "code",
   "execution_count": 24,
   "metadata": {},
   "outputs": [
    {
     "data": {
      "text/plain": [
       "array([[52, 99],\n",
       "       [78, 15]])"
      ]
     },
     "execution_count": 24,
     "metadata": {},
     "output_type": "execute_result"
    }
   ],
   "source": [
    "# One thing to note is that fancy indexing yields an array with the shape of the index,\n",
    "# not the original array. Watch how we create a 2D array by indexing into a 1D array.\n",
    "ind = np.array([[3, 7],\n",
    "                [4, 5]])\n",
    "x[ind]"
   ]
  },
  {
   "cell_type": "code",
   "execution_count": 25,
   "metadata": {},
   "outputs": [
    {
     "name": "stdout",
     "output_type": "stream",
     "text": [
      "arr1: [[52 99]\n",
      " [78 15]]\n",
      "arr2: [[104.5 198.5]\n",
      " [156.5  30.5]]\n"
     ]
    }
   ],
   "source": [
    "# Vector operations allow doing operations on large amounts of data at once:\n",
    "arr1 = x[ind]\n",
    "arr2 = arr1 * 2 + 0.5\n",
    "print('arr1:', arr1)\n",
    "print('arr2:', arr2)"
   ]
  },
  {
   "cell_type": "markdown",
   "metadata": {},
   "source": [
    "#### Boolean Operations\n",
    "Boolean operations are a key way to filter data by their values (called \"masks\"). The syntax is pretty simple (and almost identical to MATLAB):"
   ]
  },
  {
   "cell_type": "code",
   "execution_count": 26,
   "metadata": {},
   "outputs": [
    {
     "data": {
      "text/plain": [
       "array([False, False, False, False, False, False,  True,  True,  True,\n",
       "        True])"
      ]
     },
     "execution_count": 26,
     "metadata": {},
     "output_type": "execute_result"
    }
   ],
   "source": [
    "y = np.arange(5, 15, 1)\n",
    "y > 10"
   ]
  },
  {
   "cell_type": "code",
   "execution_count": 27,
   "metadata": {},
   "outputs": [
    {
     "data": {
      "text/plain": [
       "array([11, 12, 13, 14])"
      ]
     },
     "execution_count": 27,
     "metadata": {},
     "output_type": "execute_result"
    }
   ],
   "source": [
    "# Index according to a boolean operation\n",
    "y[y > 10]"
   ]
  },
  {
   "cell_type": "code",
   "execution_count": 28,
   "metadata": {},
   "outputs": [
    {
     "name": "stdout",
     "output_type": "stream",
     "text": [
      "[False False False False  True  True  True False False False]\n",
      "[ True  True  True False False False False False  True  True]\n"
     ]
    }
   ],
   "source": [
    "# Multiple operations can be combined \n",
    "print((y > 8) & (y < 12))\n",
    "\n",
    "print((y > 12) | (y < 8))"
   ]
  },
  {
   "cell_type": "markdown",
   "metadata": {},
   "source": [
    "Note that <code>and</code> and <code>or</code> are also used to make Boolean comparisons in Python, but these refer to the entire object, not to bits within the object. So for most array manipulations and masking purposes, you should use \"&\" and \" | \""
   ]
  },
  {
   "cell_type": "markdown",
   "metadata": {},
   "source": [
    "#### Numpy Recarrays\n",
    "Numpy arrays can store more than numerical data in rows and columns. They can also be given attributes (like column headers), such that each column corresponds to a different kind of information. These kinds of arrays are called structured arrays or recarrays (\"record arrays\"). You'll see them pop up a few times in CML datasets, though typically you'll be using pandas (covered tomorrow). So, we'll touch on them very briefly.\n",
    "\n",
    "Imagine that we have several categories of data on a number of people (say, name, age, and weight), and we'd like to store these values for use in a Python program. It would be possible to store these in three separate arrays:"
   ]
  },
  {
   "cell_type": "code",
   "execution_count": 29,
   "metadata": {},
   "outputs": [
    {
     "name": "stdout",
     "output_type": "stream",
     "text": [
      "[('name', '<U10'), ('age', '<i4'), ('weight', '<f8')]\n"
     ]
    }
   ],
   "source": [
    "name = ['Alice', 'Bob', 'Cathy', 'Doug']\n",
    "age = [25, 45, 37, 19]\n",
    "weight = [55.0, 85.5, 68.0, 61.5]\n",
    "\n",
    "# Use a compound data type for structured arrays\n",
    "data = np.zeros(4, dtype={'names':('name', 'age', 'weight'),\n",
    "                          'formats':('U10', 'i4', 'f8')})\n",
    "print(data.dtype)"
   ]
  },
  {
   "cell_type": "markdown",
   "metadata": {},
   "source": [
    "Here 'U10' translates to \"Unicode string of maximum length 10,\" 'i4' translates to \"4-byte (i.e., 32 bit) integer,\" and 'f8' translates to \"8-byte (i.e., 64 bit) float.\" We'll discuss other options for these type codes in the following section.\n",
    "\n",
    "Now that we've created an empty container array, we can fill the array with our lists of values:"
   ]
  },
  {
   "cell_type": "code",
   "execution_count": 30,
   "metadata": {},
   "outputs": [
    {
     "name": "stdout",
     "output_type": "stream",
     "text": [
      "[('Alice', 25, 55. ) ('Bob', 45, 85.5) ('Cathy', 37, 68. )\n",
      " ('Doug', 19, 61.5)]\n"
     ]
    }
   ],
   "source": [
    "data['name'] = name\n",
    "data['age'] = age\n",
    "data['weight'] = weight\n",
    "print(data)"
   ]
  },
  {
   "cell_type": "markdown",
   "metadata": {},
   "source": [
    "NumPy also provides the np.recarray class, which is almost identical to the structured arrays just described, but with one additional feature: fields can be accessed as attributes rather than as dictionary keys."
   ]
  },
  {
   "cell_type": "code",
   "execution_count": 31,
   "metadata": {},
   "outputs": [
    {
     "data": {
      "text/plain": [
       "array([25, 45, 37, 19], dtype=int32)"
      ]
     },
     "execution_count": 31,
     "metadata": {},
     "output_type": "execute_result"
    }
   ],
   "source": [
    "data_rec = data.view(np.recarray)\n",
    "data_rec.age"
   ]
  },
  {
   "cell_type": "markdown",
   "metadata": {},
   "source": [
    "For anything more complicated than this, you're much better off using pandas! (To be covered below.)"
   ]
  },
  {
   "cell_type": "markdown",
   "metadata": {},
   "source": [
    "## Plotting (matplotlib)"
   ]
  },
  {
   "cell_type": "markdown",
   "metadata": {},
   "source": [
    "You'll be plotting often in data science, especially with the ease-of-use of the Jupyter notebook. As with other Python topics, we're going to assume some level of familiarity with basic plotting functionality and the matplotlib library. These functions should also be very familiar to those of you coming in with a MATLAB background. But let's walk through a few examples, just to re-orient ourselves. "
   ]
  },
  {
   "cell_type": "code",
   "execution_count": 41,
   "metadata": {},
   "outputs": [],
   "source": [
    "# This 'magic' command tells the notebook how to display plots. We'll use 'inline' throughout this course.\n",
    "%matplotlib inline\n",
    "\n",
    "# import statement -- the old form was 'import pylab as plt', but this is deprecated in favor of:\n",
    "import matplotlib.pyplot as plt"
   ]
  },
  {
   "cell_type": "code",
   "execution_count": 42,
   "metadata": {},
   "outputs": [
    {
     "data": {
      "image/png": "[encoded data removed]",
      "text/plain": [
       "<Figure size 432x288 with 1 Axes>"
      ]
     },
     "metadata": {
      "needs_background": "light"
     },
     "output_type": "display_data"
    }
   ],
   "source": [
    "# Basic line plotting examples\n",
    "import numpy as np\n",
    "x = np.linspace(0, 10, 100)\n",
    "\n",
    "fig = plt.figure()\n",
    "plt.plot(x, np.sin(x), '-')\n",
    "plt.plot(x, np.cos(x), '--');\n",
    "\n",
    "# And always be sure to label your axes!\n",
    "plt.xlabel('My X Values')\n",
    "plt.ylabel('My Y Values')\n",
    "\n",
    "# Saving figures is pretty easy.\n",
    "# You can also save as png files for other purposes,\n",
    "# but pdf figures are best for publication/presentation.\n",
    "plt.savefig('my_figure.pdf')"
   ]
  },
  {
   "cell_type": "markdown",
   "metadata": {},
   "source": [
    "matplotlib also gives us access to a set of styles, which are kinda fun. "
   ]
  },
  {
   "cell_type": "code",
   "execution_count": 43,
   "metadata": {},
   "outputs": [
    {
     "data": {
      "text/plain": [
       "Text(0, 0.5, 'Y Vals')"
      ]
     },
     "execution_count": 43,
     "metadata": {},
     "output_type": "execute_result"
    },
    {
     "data": {
      "image/png": "[encoded data removed]",
      "text/plain": [
       "<Figure size 432x288 with 1 Axes>"
      ]
     },
     "metadata": {},
     "output_type": "display_data"
    }
   ],
   "source": [
    "plt.style.use('seaborn-whitegrid')\n",
    "\n",
    "fig = plt.figure()\n",
    "ax = plt.axes()\n",
    "\n",
    "x = np.linspace(0, 10, 1000)\n",
    "ax.plot(x, np.sin(x));\n",
    "\n",
    "# Try playing around with colors and styles!\n",
    "ax.plot(x, np.cos(x), color='C2', linewidth=3, linestyle='--')\n",
    "\n",
    "plt.title('My New Plot', fontsize=14)\n",
    "plt.xlabel('X Vals'); plt.ylabel('Y Vals', fontsize=12)"
   ]
  },
  {
   "cell_type": "markdown",
   "metadata": {},
   "source": [
    "Histograms are also incredibly useful in data science."
   ]
  },
  {
   "cell_type": "code",
   "execution_count": 44,
   "metadata": {},
   "outputs": [
    {
     "data": {
      "text/plain": [
       "Text(0, 0.5, 'Count')"
      ]
     },
     "execution_count": 44,
     "metadata": {},
     "output_type": "execute_result"
    },
    {
     "data": {
      "image/png": "[encoded data removed]",
      "text/plain": [
       "<Figure size 252x216 with 1 Axes>"
      ]
     },
     "metadata": {},
     "output_type": "display_data"
    }
   ],
   "source": [
    "fig = plt.figure(figsize=(3.5, 3))\n",
    "ax = plt.subplot(111)\n",
    "\n",
    "# Let's look at some synthetic distributions.\n",
    "a = np.random.randn(100)+1.5\n",
    "b = np.random.randn(100)\n",
    "\n",
    "# alpha values let us set the transparency of plotted objects.\n",
    "plt.hist(a, color='C0', alpha=0.5)\n",
    "plt.hist(b, color='C1', alpha=0.5)\n",
    "plt.xlabel('Value'); plt.ylabel('Count')"
   ]
  },
  {
   "cell_type": "code",
   "execution_count": 45,
   "metadata": {},
   "outputs": [
    {
     "data": {
      "image/png": "[encoded data removed]",
      "text/plain": [
       "<Figure size 432x216 with 2 Axes>"
      ]
     },
     "metadata": {},
     "output_type": "display_data"
    }
   ],
   "source": [
    "# The matshow function is incredibly useful for plotting time-frequency information, or anything 2D.\n",
    "fig = plt.figure(figsize=(6, 3)); ax=plt.subplot(111)\n",
    "\n",
    "# Generate some fake 2D data.\n",
    "mydata = np.random.randn(30, 60)\n",
    "\n",
    "# The RdBu_r colormap is a nice choice. It's often useful to set the range to be symmetrical.\n",
    "plt.matshow(mydata, fignum=0, aspect='auto', cmap='RdBu_r', vmin=-3.5, vmax=3.5)\n",
    "plt.colorbar();"
   ]
  },
  {
   "cell_type": "markdown",
   "metadata": {},
   "source": [
    "**Exercise: Load power T-stats from an example subject (\"R1001P_powers.npy\") and create a time-frequency plot of electrode 70**"
   ]
  },
  {
   "cell_type": "code",
   "execution_count": 46,
   "metadata": {},
   "outputs": [],
   "source": [
    "# Load the data file R1001P_tstats.npy from the npy_files directory:\n",
    "# The os.path.join command concatenates the sample_files subdirectory with the filename\n",
    "# in an OS-independent manner.\n",
    "# Resulting data dimensions in t are [frequencies, electrodes, time bins].\n",
    "import os\n",
    "t = np.load(os.path.join('sample_files', 'R1001P_tstats.npy'))"
   ]
  },
  {
   "cell_type": "code",
   "execution_count": 99,
   "metadata": {},
   "outputs": [
    {
     "data": {
      "text/plain": [
       "Text(0, 0.5, 'Frequency')"
      ]
     },
     "execution_count": 99,
     "metadata": {},
     "output_type": "execute_result"
    },
    {
     "data": {
      "image/png": "[encoded data removed]",
      "text/plain": [
       "<Figure size 432x216 with 2 Axes>"
      ]
     },
     "metadata": {},
     "output_type": "display_data"
    }
   ],
   "source": [
    "electrode = t[:, 69, :]\n",
    "\n",
    "fig = plt.figure(figsize=(6,3))\n",
    "plt.matshow(electrode, fignum=0, aspect='auto', cmap='RdBu_r')\n",
    "plt.colorbar()\n",
    "plt.xlabel('Time Bin')\n",
    "plt.ylabel('Frequency')"
   ]
  },
  {
   "cell_type": "markdown",
   "metadata": {},
   "source": [
    "**Exercise: Create a time-frequency plot where only power values exceeding a T-stat of 2 are shown**"
   ]
  },
  {
   "cell_type": "code",
   "execution_count": 102,
   "metadata": {},
   "outputs": [
    {
     "data": {
      "text/plain": [
       "Text(0, 0.5, 'Frequency')"
      ]
     },
     "execution_count": 102,
     "metadata": {},
     "output_type": "execute_result"
    },
    {
     "data": {
      "image/png": "[encoded data removed]",
      "text/plain": [
       "<Figure size 432x216 with 2 Axes>"
      ]
     },
     "metadata": {},
     "output_type": "display_data"
    }
   ],
   "source": [
    "fig = plt.figure(figsize=(6,3))\n",
    "electrode = t[:, 69, :]\n",
    "plt.matshow(np.where(electrode > 2, electrode, 0), fignum=0, aspect='auto', cmap='RdBu_r', vmin=-3.5, vmax=3.5)\n",
    "plt.colorbar()\n",
    "plt.xlabel('Time Bin')\n",
    "plt.ylabel('Frequency')"
   ]
  },
  {
   "cell_type": "markdown",
   "metadata": {},
   "source": [
    "## Working with Pandas\n",
    "\n",
    "Pandas is a Python module built on top of Numpy, allowing users to store and manipulate flexible data array objects with row and column headers. Essentially, it provides some Excel-like functionality to Python. The core of pandas is the <b>DataFrame</b>, which you can think of as a table (like numpy recarray) that supports any kind of data and has explicit labels for rows and columns. \n",
    "\n",
    "Before getting into DataFrames, let's first discuss the <b>Series</b> object -- pandas' version of an array, but it has some unique properties. For example, it can be indexed by non-integer data (unlike numpy arrays): "
   ]
  },
  {
   "cell_type": "code",
   "execution_count": 103,
   "metadata": {
    "collapsed": false,
    "jupyter": {
     "outputs_hidden": false
    }
   },
   "outputs": [
    {
     "data": {
      "text/plain": [
       "a    0.25\n",
       "b    0.50\n",
       "c    0.75\n",
       "d    1.00\n",
       "dtype: float64"
      ]
     },
     "execution_count": 103,
     "metadata": {},
     "output_type": "execute_result"
    }
   ],
   "source": [
    "import pandas as pd\n",
    "import numpy as np\n",
    "\n",
    "# Create a new Series object with strings as indices.\n",
    "# By default, Series will come with standard integer indices.\n",
    "data = pd.Series([0.25, 0.5, 0.75, 1.0],\n",
    "                 index=['a', 'b', 'c', 'd'])\n",
    "data"
   ]
  },
  {
   "cell_type": "code",
   "execution_count": 104,
   "metadata": {
    "collapsed": false,
    "jupyter": {
     "outputs_hidden": false
    }
   },
   "outputs": [
    {
     "data": {
      "text/plain": [
       "0.5"
      ]
     },
     "execution_count": 104,
     "metadata": {},
     "output_type": "execute_result"
    }
   ],
   "source": [
    "# data can be retrieved via string indices (like a Python dictionary).\n",
    "data['b']"
   ]
  },
  {
   "cell_type": "code",
   "execution_count": 105,
   "metadata": {
    "collapsed": false,
    "jupyter": {
     "outputs_hidden": false
    }
   },
   "outputs": [
    {
     "data": {
      "text/plain": [
       "California    38332521\n",
       "Illinois      12882135\n",
       "Texas         26448193\n",
       "New York      19651127\n",
       "Florida       19552860\n",
       "dtype: int64"
      ]
     },
     "execution_count": 105,
     "metadata": {},
     "output_type": "execute_result"
    }
   ],
   "source": [
    "# A dictionary can also be used to define a pandas Series:\n",
    "population_dict = {\n",
    "    'California': 38332521,\n",
    "    'Illinois': 12882135,\n",
    "    'Texas': 26448193,\n",
    "    'New York': 19651127,\n",
    "    'Florida': 19552860\n",
    "  }\n",
    "population = pd.Series(population_dict)\n",
    "population"
   ]
  },
  {
   "cell_type": "code",
   "execution_count": 106,
   "metadata": {
    "collapsed": false,
    "jupyter": {
     "outputs_hidden": false
    }
   },
   "outputs": [
    {
     "data": {
      "text/plain": [
       "California    38332521\n",
       "Illinois      12882135\n",
       "Texas         26448193\n",
       "dtype: int64"
      ]
     },
     "execution_count": 106,
     "metadata": {},
     "output_type": "execute_result"
    }
   ],
   "source": [
    "# Series objects can be sliced, just like numpy arrays.\n",
    "population['California':'Texas']"
   ]
  },
  {
   "cell_type": "markdown",
   "metadata": {},
   "source": [
    "A DataFrame is a sequence of of aligned Series objects, essentially turning indexed lists into indexed 2D arrays, or tables. For example, let's create a table of information about our states: "
   ]
  },
  {
   "cell_type": "code",
   "execution_count": 107,
   "metadata": {
    "collapsed": false,
    "jupyter": {
     "outputs_hidden": false
    }
   },
   "outputs": [
    {
     "data": {
      "text/plain": [
       "California    423967\n",
       "Illinois      149995\n",
       "Texas         695662\n",
       "New York      141297\n",
       "Florida       170312\n",
       "dtype: int64"
      ]
     },
     "execution_count": 107,
     "metadata": {},
     "output_type": "execute_result"
    }
   ],
   "source": [
    "# Create a new Series object with info about state areas.\n",
    "area_dict = {'California': 423967, 'Illinois': 149995, 'Texas': 695662,\n",
    "             'New York': 141297, 'Florida': 170312, }\n",
    "area = pd.Series(area_dict)\n",
    "area"
   ]
  },
  {
   "cell_type": "code",
   "execution_count": 108,
   "metadata": {
    "collapsed": false,
    "jupyter": {
     "outputs_hidden": false
    }
   },
   "outputs": [
    {
     "data": {
      "text/html": [
       "<div>\n",
       "<style scoped>\n",
       "    .dataframe tbody tr th:only-of-type {\n",
       "        vertical-align: middle;\n",
       "    }\n",
       "\n",
       "    .dataframe tbody tr th {\n",
       "        vertical-align: top;\n",
       "    }\n",
       "\n",
       "    .dataframe thead th {\n",
       "        text-align: right;\n",
       "    }\n",
       "</style>\n",
       "<table border=\"1\" class=\"dataframe\">\n",
       "  <thead>\n",
       "    <tr style=\"text-align: right;\">\n",
       "      <th></th>\n",
       "      <th>population</th>\n",
       "      <th>area</th>\n",
       "    </tr>\n",
       "  </thead>\n",
       "  <tbody>\n",
       "    <tr>\n",
       "      <th>California</th>\n",
       "      <td>38332521</td>\n",
       "      <td>423967</td>\n",
       "    </tr>\n",
       "    <tr>\n",
       "      <th>Illinois</th>\n",
       "      <td>12882135</td>\n",
       "      <td>149995</td>\n",
       "    </tr>\n",
       "    <tr>\n",
       "      <th>Texas</th>\n",
       "      <td>26448193</td>\n",
       "      <td>695662</td>\n",
       "    </tr>\n",
       "    <tr>\n",
       "      <th>New York</th>\n",
       "      <td>19651127</td>\n",
       "      <td>141297</td>\n",
       "    </tr>\n",
       "    <tr>\n",
       "      <th>Florida</th>\n",
       "      <td>19552860</td>\n",
       "      <td>170312</td>\n",
       "    </tr>\n",
       "  </tbody>\n",
       "</table>\n",
       "</div>"
      ],
      "text/plain": [
       "            population    area\n",
       "California    38332521  423967\n",
       "Illinois      12882135  149995\n",
       "Texas         26448193  695662\n",
       "New York      19651127  141297\n",
       "Florida       19552860  170312"
      ]
     },
     "execution_count": 108,
     "metadata": {},
     "output_type": "execute_result"
    }
   ],
   "source": [
    "states = pd.DataFrame({'population': population,\n",
    "                       'area': area})\n",
    "states"
   ]
  },
  {
   "cell_type": "code",
   "execution_count": 109,
   "metadata": {
    "collapsed": false,
    "jupyter": {
     "outputs_hidden": false
    }
   },
   "outputs": [
    {
     "name": "stdout",
     "output_type": "stream",
     "text": [
      "Index(['California', 'Illinois', 'Texas', 'New York', 'Florida'], dtype='object')\n",
      "Index(['population', 'area'], dtype='object')\n"
     ]
    }
   ],
   "source": [
    "# See which indices we're using (rows).\n",
    "print(states.index)\n",
    "\n",
    "# See our column headers.\n",
    "print(states.columns)"
   ]
  },
  {
   "cell_type": "markdown",
   "metadata": {},
   "source": [
    "Do note that indexing into DataFrames works a little differently than arrays. In many ways, pandas objects are more like dictionaries than arrays (but really, more of a dictionary-array hybrid):"
   ]
  },
  {
   "cell_type": "code",
   "execution_count": 129,
   "metadata": {},
   "outputs": [],
   "source": [
    "# Try running states[0]\n"
   ]
  },
  {
   "cell_type": "code",
   "execution_count": 115,
   "metadata": {
    "collapsed": false,
    "jupyter": {
     "outputs_hidden": false
    }
   },
   "outputs": [
    {
     "data": {
      "text/plain": [
       "California    38332521\n",
       "Illinois      12882135\n",
       "Texas         26448193\n",
       "New York      19651127\n",
       "Florida       19552860\n",
       "Name: population, dtype: int64"
      ]
     },
     "execution_count": 115,
     "metadata": {},
     "output_type": "execute_result"
    }
   ],
   "source": [
    "# But now try:\n",
    "states['population']"
   ]
  },
  {
   "cell_type": "code",
   "execution_count": 116,
   "metadata": {
    "collapsed": false,
    "jupyter": {
     "outputs_hidden": false
    }
   },
   "outputs": [
    {
     "data": {
      "text/plain": [
       "California    38332521\n",
       "Illinois      12882135\n",
       "Texas         26448193\n",
       "New York      19651127\n",
       "Florida       19552860\n",
       "Name: population, dtype: int64"
      ]
     },
     "execution_count": 116,
     "metadata": {},
     "output_type": "execute_result"
    }
   ],
   "source": [
    "# Also note that using a column name as an attribute will work.\n",
    "states.population\n",
    "\n",
    "# Although in general the dictionary-style indexing is more reliable, and can work with non-strings."
   ]
  },
  {
   "cell_type": "markdown",
   "metadata": {},
   "source": [
    "Sometimes you really want to go back to the implicit integer index. There's a really easy way to do this, the iloc indexer: "
   ]
  },
  {
   "cell_type": "code",
   "execution_count": 118,
   "metadata": {
    "collapsed": false,
    "jupyter": {
     "outputs_hidden": false
    }
   },
   "outputs": [
    {
     "data": {
      "text/plain": [
       "population    38332521\n",
       "area            423967\n",
       "Name: California, dtype: int64"
      ]
     },
     "execution_count": 118,
     "metadata": {},
     "output_type": "execute_result"
    }
   ],
   "source": [
    "# Get the data for 'California' without using the explicit index.\n",
    "states.iloc[0]"
   ]
  },
  {
   "cell_type": "code",
   "execution_count": 119,
   "metadata": {
    "collapsed": false,
    "jupyter": {
     "outputs_hidden": false
    }
   },
   "outputs": [
    {
     "data": {
      "text/html": [
       "<div>\n",
       "<style scoped>\n",
       "    .dataframe tbody tr th:only-of-type {\n",
       "        vertical-align: middle;\n",
       "    }\n",
       "\n",
       "    .dataframe tbody tr th {\n",
       "        vertical-align: top;\n",
       "    }\n",
       "\n",
       "    .dataframe thead th {\n",
       "        text-align: right;\n",
       "    }\n",
       "</style>\n",
       "<table border=\"1\" class=\"dataframe\">\n",
       "  <thead>\n",
       "    <tr style=\"text-align: right;\">\n",
       "      <th></th>\n",
       "      <th>population</th>\n",
       "      <th>area</th>\n",
       "      <th>density</th>\n",
       "    </tr>\n",
       "  </thead>\n",
       "  <tbody>\n",
       "    <tr>\n",
       "      <th>California</th>\n",
       "      <td>38332521</td>\n",
       "      <td>423967</td>\n",
       "      <td>90.413926</td>\n",
       "    </tr>\n",
       "    <tr>\n",
       "      <th>Illinois</th>\n",
       "      <td>12882135</td>\n",
       "      <td>149995</td>\n",
       "      <td>85.883763</td>\n",
       "    </tr>\n",
       "    <tr>\n",
       "      <th>Texas</th>\n",
       "      <td>26448193</td>\n",
       "      <td>695662</td>\n",
       "      <td>38.018740</td>\n",
       "    </tr>\n",
       "    <tr>\n",
       "      <th>New York</th>\n",
       "      <td>19651127</td>\n",
       "      <td>141297</td>\n",
       "      <td>139.076746</td>\n",
       "    </tr>\n",
       "    <tr>\n",
       "      <th>Florida</th>\n",
       "      <td>19552860</td>\n",
       "      <td>170312</td>\n",
       "      <td>114.806121</td>\n",
       "    </tr>\n",
       "  </tbody>\n",
       "</table>\n",
       "</div>"
      ],
      "text/plain": [
       "            population    area     density\n",
       "California    38332521  423967   90.413926\n",
       "Illinois      12882135  149995   85.883763\n",
       "Texas         26448193  695662   38.018740\n",
       "New York      19651127  141297  139.076746\n",
       "Florida       19552860  170312  114.806121"
      ]
     },
     "execution_count": 119,
     "metadata": {},
     "output_type": "execute_result"
    }
   ],
   "source": [
    "# Want to add a new column? It's easy! Just as if you were manipulating a Python dictionary.\n",
    "states['density'] = states['population'] / states['area']\n",
    "states"
   ]
  },
  {
   "cell_type": "code",
   "execution_count": 120,
   "metadata": {
    "collapsed": false,
    "jupyter": {
     "outputs_hidden": false
    }
   },
   "outputs": [
    {
     "data": {
      "text/html": [
       "<div>\n",
       "<style scoped>\n",
       "    .dataframe tbody tr th:only-of-type {\n",
       "        vertical-align: middle;\n",
       "    }\n",
       "\n",
       "    .dataframe tbody tr th {\n",
       "        vertical-align: top;\n",
       "    }\n",
       "\n",
       "    .dataframe thead th {\n",
       "        text-align: right;\n",
       "    }\n",
       "</style>\n",
       "<table border=\"1\" class=\"dataframe\">\n",
       "  <thead>\n",
       "    <tr style=\"text-align: right;\">\n",
       "      <th></th>\n",
       "      <th>population</th>\n",
       "      <th>density</th>\n",
       "    </tr>\n",
       "  </thead>\n",
       "  <tbody>\n",
       "    <tr>\n",
       "      <th>New York</th>\n",
       "      <td>19651127</td>\n",
       "      <td>139.076746</td>\n",
       "    </tr>\n",
       "    <tr>\n",
       "      <th>Florida</th>\n",
       "      <td>19552860</td>\n",
       "      <td>114.806121</td>\n",
       "    </tr>\n",
       "  </tbody>\n",
       "</table>\n",
       "</div>"
      ],
      "text/plain": [
       "          population     density\n",
       "New York    19651127  139.076746\n",
       "Florida     19552860  114.806121"
      ]
     },
     "execution_count": 120,
     "metadata": {},
     "output_type": "execute_result"
    }
   ],
   "source": [
    "# Pandas methods even support combinations of indexing/slicing/masking.\n",
    "# The 'loc' method lets us only refer to explicit indices (the opposite of the iloc method)\n",
    "states.loc[states['density']>100, ['population', 'density']]"
   ]
  },
  {
   "cell_type": "code",
   "execution_count": 121,
   "metadata": {},
   "outputs": [
    {
     "data": {
      "text/plain": [
       "California    False\n",
       "Illinois      False\n",
       "Texas         False\n",
       "New York       True\n",
       "Florida        True\n",
       "Name: density, dtype: bool"
      ]
     },
     "execution_count": 121,
     "metadata": {},
     "output_type": "execute_result"
    }
   ],
   "source": [
    "# Let's break that down.  First the boolean mask:\n",
    "states['density']>100"
   ]
  },
  {
   "cell_type": "code",
   "execution_count": 122,
   "metadata": {},
   "outputs": [
    {
     "data": {
      "text/html": [
       "<div>\n",
       "<style scoped>\n",
       "    .dataframe tbody tr th:only-of-type {\n",
       "        vertical-align: middle;\n",
       "    }\n",
       "\n",
       "    .dataframe tbody tr th {\n",
       "        vertical-align: top;\n",
       "    }\n",
       "\n",
       "    .dataframe thead th {\n",
       "        text-align: right;\n",
       "    }\n",
       "</style>\n",
       "<table border=\"1\" class=\"dataframe\">\n",
       "  <thead>\n",
       "    <tr style=\"text-align: right;\">\n",
       "      <th></th>\n",
       "      <th>population</th>\n",
       "      <th>area</th>\n",
       "      <th>density</th>\n",
       "    </tr>\n",
       "  </thead>\n",
       "  <tbody>\n",
       "    <tr>\n",
       "      <th>New York</th>\n",
       "      <td>19651127</td>\n",
       "      <td>141297</td>\n",
       "      <td>139.076746</td>\n",
       "    </tr>\n",
       "    <tr>\n",
       "      <th>Florida</th>\n",
       "      <td>19552860</td>\n",
       "      <td>170312</td>\n",
       "      <td>114.806121</td>\n",
       "    </tr>\n",
       "  </tbody>\n",
       "</table>\n",
       "</div>"
      ],
      "text/plain": [
       "          population    area     density\n",
       "New York    19651127  141297  139.076746\n",
       "Florida     19552860  170312  114.806121"
      ]
     },
     "execution_count": 122,
     "metadata": {},
     "output_type": "execute_result"
    }
   ],
   "source": [
    "# Selecting indices by boolean mask:\n",
    "states.loc[states['density']>100]"
   ]
  },
  {
   "cell_type": "code",
   "execution_count": 123,
   "metadata": {},
   "outputs": [
    {
     "data": {
      "text/html": [
       "<div>\n",
       "<style scoped>\n",
       "    .dataframe tbody tr th:only-of-type {\n",
       "        vertical-align: middle;\n",
       "    }\n",
       "\n",
       "    .dataframe tbody tr th {\n",
       "        vertical-align: top;\n",
       "    }\n",
       "\n",
       "    .dataframe thead th {\n",
       "        text-align: right;\n",
       "    }\n",
       "</style>\n",
       "<table border=\"1\" class=\"dataframe\">\n",
       "  <thead>\n",
       "    <tr style=\"text-align: right;\">\n",
       "      <th></th>\n",
       "      <th>population</th>\n",
       "      <th>density</th>\n",
       "    </tr>\n",
       "  </thead>\n",
       "  <tbody>\n",
       "    <tr>\n",
       "      <th>California</th>\n",
       "      <td>38332521</td>\n",
       "      <td>90.413926</td>\n",
       "    </tr>\n",
       "    <tr>\n",
       "      <th>Illinois</th>\n",
       "      <td>12882135</td>\n",
       "      <td>85.883763</td>\n",
       "    </tr>\n",
       "    <tr>\n",
       "      <th>Texas</th>\n",
       "      <td>26448193</td>\n",
       "      <td>38.018740</td>\n",
       "    </tr>\n",
       "    <tr>\n",
       "      <th>New York</th>\n",
       "      <td>19651127</td>\n",
       "      <td>139.076746</td>\n",
       "    </tr>\n",
       "    <tr>\n",
       "      <th>Florida</th>\n",
       "      <td>19552860</td>\n",
       "      <td>114.806121</td>\n",
       "    </tr>\n",
       "  </tbody>\n",
       "</table>\n",
       "</div>"
      ],
      "text/plain": [
       "            population     density\n",
       "California    38332521   90.413926\n",
       "Illinois      12882135   85.883763\n",
       "Texas         26448193   38.018740\n",
       "New York      19651127  139.076746\n",
       "Florida       19552860  114.806121"
      ]
     },
     "execution_count": 123,
     "metadata": {},
     "output_type": "execute_result"
    }
   ],
   "source": [
    "# Column selection:\n",
    "states[['population', 'density']]"
   ]
  },
  {
   "cell_type": "code",
   "execution_count": 124,
   "metadata": {},
   "outputs": [
    {
     "data": {
      "text/html": [
       "<div>\n",
       "<style scoped>\n",
       "    .dataframe tbody tr th:only-of-type {\n",
       "        vertical-align: middle;\n",
       "    }\n",
       "\n",
       "    .dataframe tbody tr th {\n",
       "        vertical-align: top;\n",
       "    }\n",
       "\n",
       "    .dataframe thead th {\n",
       "        text-align: right;\n",
       "    }\n",
       "</style>\n",
       "<table border=\"1\" class=\"dataframe\">\n",
       "  <thead>\n",
       "    <tr style=\"text-align: right;\">\n",
       "      <th></th>\n",
       "      <th>population</th>\n",
       "      <th>density</th>\n",
       "    </tr>\n",
       "  </thead>\n",
       "  <tbody>\n",
       "    <tr>\n",
       "      <th>New York</th>\n",
       "      <td>19651127</td>\n",
       "      <td>139.076746</td>\n",
       "    </tr>\n",
       "    <tr>\n",
       "      <th>Florida</th>\n",
       "      <td>19552860</td>\n",
       "      <td>114.806121</td>\n",
       "    </tr>\n",
       "  </tbody>\n",
       "</table>\n",
       "</div>"
      ],
      "text/plain": [
       "          population     density\n",
       "New York    19651127  139.076746\n",
       "Florida     19552860  114.806121"
      ]
     },
     "execution_count": 124,
     "metadata": {},
     "output_type": "execute_result"
    }
   ],
   "source": [
    "# And put all together.\n",
    "# Selecting indices by boolean mask, and specific columns:\n",
    "states.loc[states['density']>100, ['population', 'density']]"
   ]
  },
  {
   "cell_type": "code",
   "execution_count": 55,
   "metadata": {},
   "outputs": [
    {
     "data": {
      "text/plain": [
       "\u001b[0;31mType:\u001b[0m        property\n",
       "\u001b[0;31mString form:\u001b[0m <property object at 0x2ba2d6cca710>\n",
       "\u001b[0;31mDocstring:\u001b[0m  \n",
       "Access a group of rows and columns by label(s) or a boolean array.\n",
       "\n",
       "``.loc[]`` is primarily label based, but may also be used with a\n",
       "boolean array.\n",
       "\n",
       "Allowed inputs are:\n",
       "\n",
       "- A single label, e.g. ``5`` or ``'a'``, (note that ``5`` is\n",
       "  interpreted as a *label* of the index, and **never** as an\n",
       "  integer position along the index).\n",
       "- A list or array of labels, e.g. ``['a', 'b', 'c']``.\n",
       "- A slice object with labels, e.g. ``'a':'f'``.\n",
       "\n",
       "  .. warning:: Note that contrary to usual python slices, **both** the\n",
       "      start and the stop are included\n",
       "\n",
       "- A boolean array of the same length as the axis being sliced,\n",
       "  e.g. ``[True, False, True]``.\n",
       "- A ``callable`` function with one argument (the calling Series, DataFrame\n",
       "  or Panel) and that returns valid output for indexing (one of the above)\n",
       "\n",
       "See more at :ref:`Selection by Label <indexing.label>`\n",
       "\n",
       "Raises\n",
       "------\n",
       "KeyError:\n",
       "    when any items are not found\n",
       "\n",
       "See Also\n",
       "--------\n",
       "DataFrame.at : Access a single value for a row/column label pair.\n",
       "DataFrame.iloc : Access group of rows and columns by integer position(s).\n",
       "DataFrame.xs : Returns a cross-section (row(s) or column(s)) from the\n",
       "    Series/DataFrame.\n",
       "Series.loc : Access group of values using labels.\n",
       "\n",
       "Examples\n",
       "--------\n",
       "**Getting values**\n",
       "\n",
       ">>> df = pd.DataFrame([[1, 2], [4, 5], [7, 8]],\n",
       "...      index=['cobra', 'viper', 'sidewinder'],\n",
       "...      columns=['max_speed', 'shield'])\n",
       ">>> df\n",
       "            max_speed  shield\n",
       "cobra               1       2\n",
       "viper               4       5\n",
       "sidewinder          7       8\n",
       "\n",
       "Single label. Note this returns the row as a Series.\n",
       "\n",
       ">>> df.loc['viper']\n",
       "max_speed    4\n",
       "shield       5\n",
       "Name: viper, dtype: int64\n",
       "\n",
       "List of labels. Note using ``[[]]`` returns a DataFrame.\n",
       "\n",
       ">>> df.loc[['viper', 'sidewinder']]\n",
       "            max_speed  shield\n",
       "viper               4       5\n",
       "sidewinder          7       8\n",
       "\n",
       "Single label for row and column\n",
       "\n",
       ">>> df.loc['cobra', 'shield']\n",
       "2\n",
       "\n",
       "Slice with labels for row and single label for column. As mentioned\n",
       "above, note that both the start and stop of the slice are included.\n",
       "\n",
       ">>> df.loc['cobra':'viper', 'max_speed']\n",
       "cobra    1\n",
       "viper    4\n",
       "Name: max_speed, dtype: int64\n",
       "\n",
       "Boolean list with the same length as the row axis\n",
       "\n",
       ">>> df.loc[[False, False, True]]\n",
       "            max_speed  shield\n",
       "sidewinder          7       8\n",
       "\n",
       "Conditional that returns a boolean Series\n",
       "\n",
       ">>> df.loc[df['shield'] > 6]\n",
       "            max_speed  shield\n",
       "sidewinder          7       8\n",
       "\n",
       "Conditional that returns a boolean Series with column labels specified\n",
       "\n",
       ">>> df.loc[df['shield'] > 6, ['max_speed']]\n",
       "            max_speed\n",
       "sidewinder          7\n",
       "\n",
       "Callable that returns a boolean Series\n",
       "\n",
       ">>> df.loc[lambda df: df['shield'] == 8]\n",
       "            max_speed  shield\n",
       "sidewinder          7       8\n",
       "\n",
       "**Setting values**\n",
       "\n",
       "Set value for all items matching the list of labels\n",
       "\n",
       ">>> df.loc[['viper', 'sidewinder'], ['shield']] = 50\n",
       ">>> df\n",
       "            max_speed  shield\n",
       "cobra               1       2\n",
       "viper               4      50\n",
       "sidewinder          7      50\n",
       "\n",
       "Set value for an entire row\n",
       "\n",
       ">>> df.loc['cobra'] = 10\n",
       ">>> df\n",
       "            max_speed  shield\n",
       "cobra              10      10\n",
       "viper               4      50\n",
       "sidewinder          7      50\n",
       "\n",
       "Set value for an entire column\n",
       "\n",
       ">>> df.loc[:, 'max_speed'] = 30\n",
       ">>> df\n",
       "            max_speed  shield\n",
       "cobra              30      10\n",
       "viper              30      50\n",
       "sidewinder         30      50\n",
       "\n",
       "Set value for rows matching callable condition\n",
       "\n",
       ">>> df.loc[df['shield'] > 35] = 0\n",
       ">>> df\n",
       "            max_speed  shield\n",
       "cobra              30      10\n",
       "viper               0       0\n",
       "sidewinder          0       0\n",
       "\n",
       "**Getting values on a DataFrame with an index that has integer labels**\n",
       "\n",
       "Another example using integers for the index\n",
       "\n",
       ">>> df = pd.DataFrame([[1, 2], [4, 5], [7, 8]],\n",
       "...      index=[7, 8, 9], columns=['max_speed', 'shield'])\n",
       ">>> df\n",
       "   max_speed  shield\n",
       "7          1       2\n",
       "8          4       5\n",
       "9          7       8\n",
       "\n",
       "Slice with integer labels for rows. As mentioned above, note that both\n",
       "the start and stop of the slice are included.\n",
       "\n",
       ">>> df.loc[7:9]\n",
       "   max_speed  shield\n",
       "7          1       2\n",
       "8          4       5\n",
       "9          7       8\n",
       "\n",
       "**Getting values with a MultiIndex**\n",
       "\n",
       "A number of examples using a DataFrame with a MultiIndex\n",
       "\n",
       ">>> tuples = [\n",
       "...    ('cobra', 'mark i'), ('cobra', 'mark ii'),\n",
       "...    ('sidewinder', 'mark i'), ('sidewinder', 'mark ii'),\n",
       "...    ('viper', 'mark ii'), ('viper', 'mark iii')\n",
       "... ]\n",
       ">>> index = pd.MultiIndex.from_tuples(tuples)\n",
       ">>> values = [[12, 2], [0, 4], [10, 20],\n",
       "...         [1, 4], [7, 1], [16, 36]]\n",
       ">>> df = pd.DataFrame(values, columns=['max_speed', 'shield'], index=index)\n",
       ">>> df\n",
       "                     max_speed  shield\n",
       "cobra      mark i           12       2\n",
       "           mark ii           0       4\n",
       "sidewinder mark i           10      20\n",
       "           mark ii           1       4\n",
       "viper      mark ii           7       1\n",
       "           mark iii         16      36\n",
       "\n",
       "Single label. Note this returns a DataFrame with a single index.\n",
       "\n",
       ">>> df.loc['cobra']\n",
       "         max_speed  shield\n",
       "mark i          12       2\n",
       "mark ii          0       4\n",
       "\n",
       "Single index tuple. Note this returns a Series.\n",
       "\n",
       ">>> df.loc[('cobra', 'mark ii')]\n",
       "max_speed    0\n",
       "shield       4\n",
       "Name: (cobra, mark ii), dtype: int64\n",
       "\n",
       "Single label for row and column. Similar to passing in a tuple, this\n",
       "returns a Series.\n",
       "\n",
       ">>> df.loc['cobra', 'mark i']\n",
       "max_speed    12\n",
       "shield        2\n",
       "Name: (cobra, mark i), dtype: int64\n",
       "\n",
       "Single tuple. Note using ``[[]]`` returns a DataFrame.\n",
       "\n",
       ">>> df.loc[[('cobra', 'mark ii')]]\n",
       "               max_speed  shield\n",
       "cobra mark ii          0       4\n",
       "\n",
       "Single tuple for the index with a single label for the column\n",
       "\n",
       ">>> df.loc[('cobra', 'mark i'), 'shield']\n",
       "2\n",
       "\n",
       "Slice from index tuple to single label\n",
       "\n",
       ">>> df.loc[('cobra', 'mark i'):'viper']\n",
       "                     max_speed  shield\n",
       "cobra      mark i           12       2\n",
       "           mark ii           0       4\n",
       "sidewinder mark i           10      20\n",
       "           mark ii           1       4\n",
       "viper      mark ii           7       1\n",
       "           mark iii         16      36\n",
       "\n",
       "Slice from index tuple to index tuple\n",
       "\n",
       ">>> df.loc[('cobra', 'mark i'):('viper', 'mark ii')]\n",
       "                    max_speed  shield\n",
       "cobra      mark i          12       2\n",
       "           mark ii          0       4\n",
       "sidewinder mark i          10      20\n",
       "           mark ii          1       4\n",
       "viper      mark ii          7       1\n"
      ]
     },
     "metadata": {},
     "output_type": "display_data"
    }
   ],
   "source": [
    "# When you want to look up details of what you can do, use\n",
    "# the built-in docstrings.  You can throw a question mark after\n",
    "# the function / class name in ipython/JupyterLab, or run\n",
    "# help(states.loc) in any compliant Python interpreter.\n",
    "states.loc?"
   ]
  },
  {
   "cell_type": "markdown",
   "metadata": {},
   "source": [
    "### Manipulating pandas DataFrames"
   ]
  },
  {
   "cell_type": "markdown",
   "metadata": {},
   "source": [
    "Pandas has some fantastic string methods for finding and manipulating data in a DataFrame."
   ]
  },
  {
   "cell_type": "code",
   "execution_count": 130,
   "metadata": {
    "collapsed": false,
    "jupyter": {
     "outputs_hidden": false
    }
   },
   "outputs": [
    {
     "data": {
      "text/plain": [
       "0     peter\n",
       "1      Paul\n",
       "2      MARY\n",
       "3    gEORGE\n",
       "4      mark\n",
       "dtype: object"
      ]
     },
     "execution_count": 130,
     "metadata": {},
     "output_type": "execute_result"
    }
   ],
   "source": [
    "data = ['peter', 'Paul', 'MARY', 'gEORGE', 'mark']\n",
    "names = pd.Series(data)\n",
    "names"
   ]
  },
  {
   "cell_type": "code",
   "execution_count": 131,
   "metadata": {
    "collapsed": false,
    "jupyter": {
     "outputs_hidden": false
    }
   },
   "outputs": [
    {
     "data": {
      "text/plain": [
       "0     Peter\n",
       "1      Paul\n",
       "2      Mary\n",
       "3    George\n",
       "4      Mark\n",
       "dtype: object"
      ]
     },
     "execution_count": 131,
     "metadata": {},
     "output_type": "execute_result"
    }
   ],
   "source": [
    "names.str.capitalize()"
   ]
  },
  {
   "cell_type": "code",
   "execution_count": 133,
   "metadata": {
    "collapsed": false,
    "jupyter": {
     "outputs_hidden": false
    }
   },
   "outputs": [
    {
     "data": {
      "text/plain": [
       "0    False\n",
       "1     True\n",
       "2    False\n",
       "3    False\n",
       "4    False\n",
       "dtype: bool"
      ]
     },
     "execution_count": 133,
     "metadata": {},
     "output_type": "execute_result"
    }
   ],
   "source": [
    "names.str.endswith('l')"
   ]
  },
  {
   "cell_type": "markdown",
   "metadata": {},
   "source": [
    "Particularly useful is the .contains() method, which can be used to find strings where they appear in a column. "
   ]
  },
  {
   "cell_type": "code",
   "execution_count": 134,
   "metadata": {
    "collapsed": false,
    "jupyter": {
     "outputs_hidden": false
    }
   },
   "outputs": [
    {
     "data": {
      "text/plain": [
       "0    False\n",
       "1    False\n",
       "2     True\n",
       "3    False\n",
       "4     True\n",
       "dtype: bool"
      ]
     },
     "execution_count": 134,
     "metadata": {},
     "output_type": "execute_result"
    }
   ],
   "source": [
    "names.loc[:] = names.str.capitalize()  # first lets standardize the capitalization\n",
    "names.str.contains('ar')"
   ]
  },
  {
   "cell_type": "markdown",
   "metadata": {},
   "source": [
    "Masking and the .query() method are your friends. You'll find yourself using these often to access subarrays of a dataframe. For example..."
   ]
  },
  {
   "cell_type": "code",
   "execution_count": 135,
   "metadata": {
    "collapsed": false,
    "jupyter": {
     "outputs_hidden": false
    }
   },
   "outputs": [
    {
     "data": {
      "text/html": [
       "<div>\n",
       "<style scoped>\n",
       "    .dataframe tbody tr th:only-of-type {\n",
       "        vertical-align: middle;\n",
       "    }\n",
       "\n",
       "    .dataframe tbody tr th {\n",
       "        vertical-align: top;\n",
       "    }\n",
       "\n",
       "    .dataframe thead th {\n",
       "        text-align: right;\n",
       "    }\n",
       "</style>\n",
       "<table border=\"1\" class=\"dataframe\">\n",
       "  <thead>\n",
       "    <tr style=\"text-align: right;\">\n",
       "      <th></th>\n",
       "      <th>population</th>\n",
       "      <th>area</th>\n",
       "      <th>density</th>\n",
       "    </tr>\n",
       "  </thead>\n",
       "  <tbody>\n",
       "    <tr>\n",
       "      <th>New York</th>\n",
       "      <td>19651127</td>\n",
       "      <td>141297</td>\n",
       "      <td>139.076746</td>\n",
       "    </tr>\n",
       "    <tr>\n",
       "      <th>Florida</th>\n",
       "      <td>19552860</td>\n",
       "      <td>170312</td>\n",
       "      <td>114.806121</td>\n",
       "    </tr>\n",
       "  </tbody>\n",
       "</table>\n",
       "</div>"
      ],
      "text/plain": [
       "          population    area     density\n",
       "New York    19651127  141297  139.076746\n",
       "Florida     19552860  170312  114.806121"
      ]
     },
     "execution_count": 135,
     "metadata": {},
     "output_type": "execute_result"
    }
   ],
   "source": [
    "# Similar to an example we looked at before\n",
    "states[states['density']>100]"
   ]
  },
  {
   "cell_type": "code",
   "execution_count": 136,
   "metadata": {
    "collapsed": false,
    "jupyter": {
     "outputs_hidden": false
    }
   },
   "outputs": [
    {
     "data": {
      "text/html": [
       "<div>\n",
       "<style scoped>\n",
       "    .dataframe tbody tr th:only-of-type {\n",
       "        vertical-align: middle;\n",
       "    }\n",
       "\n",
       "    .dataframe tbody tr th {\n",
       "        vertical-align: top;\n",
       "    }\n",
       "\n",
       "    .dataframe thead th {\n",
       "        text-align: right;\n",
       "    }\n",
       "</style>\n",
       "<table border=\"1\" class=\"dataframe\">\n",
       "  <thead>\n",
       "    <tr style=\"text-align: right;\">\n",
       "      <th></th>\n",
       "      <th>population</th>\n",
       "      <th>area</th>\n",
       "      <th>density</th>\n",
       "    </tr>\n",
       "  </thead>\n",
       "  <tbody>\n",
       "    <tr>\n",
       "      <th>New York</th>\n",
       "      <td>19651127</td>\n",
       "      <td>141297</td>\n",
       "      <td>139.076746</td>\n",
       "    </tr>\n",
       "    <tr>\n",
       "      <th>Florida</th>\n",
       "      <td>19552860</td>\n",
       "      <td>170312</td>\n",
       "      <td>114.806121</td>\n",
       "    </tr>\n",
       "  </tbody>\n",
       "</table>\n",
       "</div>"
      ],
      "text/plain": [
       "          population    area     density\n",
       "New York    19651127  141297  139.076746\n",
       "Florida     19552860  170312  114.806121"
      ]
     },
     "execution_count": 136,
     "metadata": {},
     "output_type": "execute_result"
    }
   ],
   "source": [
    "# Which could also be written as:\n",
    "states.query('density>100')"
   ]
  },
  {
   "cell_type": "code",
   "execution_count": 137,
   "metadata": {},
   "outputs": [
    {
     "data": {
      "text/plain": [
       "\u001b[0;31mSignature:\u001b[0m \u001b[0mstates\u001b[0m\u001b[0;34m.\u001b[0m\u001b[0mquery\u001b[0m\u001b[0;34m(\u001b[0m\u001b[0mexpr\u001b[0m\u001b[0;34m,\u001b[0m \u001b[0minplace\u001b[0m\u001b[0;34m=\u001b[0m\u001b[0;32mFalse\u001b[0m\u001b[0;34m,\u001b[0m \u001b[0;34m**\u001b[0m\u001b[0mkwargs\u001b[0m\u001b[0;34m)\u001b[0m\u001b[0;34m\u001b[0m\u001b[0;34m\u001b[0m\u001b[0m\n",
       "\u001b[0;31mDocstring:\u001b[0m\n",
       "Query the columns of a DataFrame with a boolean expression.\n",
       "\n",
       "Parameters\n",
       "----------\n",
       "expr : str\n",
       "    The query string to evaluate.\n",
       "\n",
       "    You can refer to variables\n",
       "    in the environment by prefixing them with an '@' character like\n",
       "    ``@a + b``.\n",
       "\n",
       "    You can refer to column names that contain spaces or operators by\n",
       "    surrounding them in backticks. This way you can also escape\n",
       "    names that start with a digit, or those that  are a Python keyword.\n",
       "    Basically when it is not valid Python identifier. See notes down\n",
       "    for more details.\n",
       "\n",
       "    For example, if one of your columns is called ``a a`` and you want\n",
       "    to sum it with ``b``, your query should be ```a a` + b``.\n",
       "\n",
       "    .. versionadded:: 0.25.0\n",
       "        Backtick quoting introduced.\n",
       "\n",
       "    .. versionadded:: 1.0.0\n",
       "        Expanding functionality of backtick quoting for more than only spaces.\n",
       "\n",
       "inplace : bool\n",
       "    Whether the query should modify the data in place or return\n",
       "    a modified copy.\n",
       "**kwargs\n",
       "    See the documentation for :func:`eval` for complete details\n",
       "    on the keyword arguments accepted by :meth:`DataFrame.query`.\n",
       "\n",
       "Returns\n",
       "-------\n",
       "DataFrame\n",
       "    DataFrame resulting from the provided query expression.\n",
       "\n",
       "See Also\n",
       "--------\n",
       "eval : Evaluate a string describing operations on\n",
       "    DataFrame columns.\n",
       "DataFrame.eval : Evaluate a string describing operations on\n",
       "    DataFrame columns.\n",
       "\n",
       "Notes\n",
       "-----\n",
       "The result of the evaluation of this expression is first passed to\n",
       ":attr:`DataFrame.loc` and if that fails because of a\n",
       "multidimensional key (e.g., a DataFrame) then the result will be passed\n",
       "to :meth:`DataFrame.__getitem__`.\n",
       "\n",
       "This method uses the top-level :func:`eval` function to\n",
       "evaluate the passed query.\n",
       "\n",
       "The :meth:`~pandas.DataFrame.query` method uses a slightly\n",
       "modified Python syntax by default. For example, the ``&`` and ``|``\n",
       "(bitwise) operators have the precedence of their boolean cousins,\n",
       ":keyword:`and` and :keyword:`or`. This *is* syntactically valid Python,\n",
       "however the semantics are different.\n",
       "\n",
       "You can change the semantics of the expression by passing the keyword\n",
       "argument ``parser='python'``. This enforces the same semantics as\n",
       "evaluation in Python space. Likewise, you can pass ``engine='python'``\n",
       "to evaluate an expression using Python itself as a backend. This is not\n",
       "recommended as it is inefficient compared to using ``numexpr`` as the\n",
       "engine.\n",
       "\n",
       "The :attr:`DataFrame.index` and\n",
       ":attr:`DataFrame.columns` attributes of the\n",
       ":class:`~pandas.DataFrame` instance are placed in the query namespace\n",
       "by default, which allows you to treat both the index and columns of the\n",
       "frame as a column in the frame.\n",
       "The identifier ``index`` is used for the frame index; you can also\n",
       "use the name of the index to identify it in a query. Please note that\n",
       "Python keywords may not be used as identifiers.\n",
       "\n",
       "For further details and examples see the ``query`` documentation in\n",
       ":ref:`indexing <indexing.query>`.\n",
       "\n",
       "*Backtick quoted variables*\n",
       "\n",
       "Backtick quoted variables are parsed as literal Python code and\n",
       "are converted internally to a Python valid identifier.\n",
       "This can lead to the following problems.\n",
       "\n",
       "During parsing a number of disallowed characters inside the backtick\n",
       "quoted string are replaced by strings that are allowed as a Python identifier.\n",
       "These characters include all operators in Python, the space character, the\n",
       "question mark, the exclamation mark, the dollar sign, and the euro sign.\n",
       "For other characters that fall outside the ASCII range (U+0001..U+007F)\n",
       "and those that are not further specified in PEP 3131,\n",
       "the query parser will raise an error.\n",
       "This excludes whitespace different than the space character,\n",
       "but also the hashtag (as it is used for comments) and the backtick\n",
       "itself (backtick can also not be escaped).\n",
       "\n",
       "In a special case, quotes that make a pair around a backtick can\n",
       "confuse the parser.\n",
       "For example, ```it's` > `that's``` will raise an error,\n",
       "as it forms a quoted string (``'s > `that'``) with a backtick inside.\n",
       "\n",
       "See also the Python documentation about lexical analysis\n",
       "(https://docs.python.org/3/reference/lexical_analysis.html)\n",
       "in combination with the source code in :mod:`pandas.core.computation.parsing`.\n",
       "\n",
       "Examples\n",
       "--------\n",
       ">>> df = pd.DataFrame({'A': range(1, 6),\n",
       "...                    'B': range(10, 0, -2),\n",
       "...                    'C C': range(10, 5, -1)})\n",
       ">>> df\n",
       "   A   B  C C\n",
       "0  1  10   10\n",
       "1  2   8    9\n",
       "2  3   6    8\n",
       "3  4   4    7\n",
       "4  5   2    6\n",
       ">>> df.query('A > B')\n",
       "   A  B  C C\n",
       "4  5  2    6\n",
       "\n",
       "The previous expression is equivalent to\n",
       "\n",
       ">>> df[df.A > df.B]\n",
       "   A  B  C C\n",
       "4  5  2    6\n",
       "\n",
       "For columns with spaces in their name, you can use backtick quoting.\n",
       "\n",
       ">>> df.query('B == `C C`')\n",
       "   A   B  C C\n",
       "0  1  10   10\n",
       "\n",
       "The previous expression is equivalent to\n",
       "\n",
       ">>> df[df.B == df['C C']]\n",
       "   A   B  C C\n",
       "0  1  10   10\n",
       "\u001b[0;31mFile:\u001b[0m      ~/.conda/envs/workshop/lib/python3.7/site-packages/pandas/core/frame.py\n",
       "\u001b[0;31mType:\u001b[0m      method\n"
      ]
     },
     "metadata": {},
     "output_type": "display_data"
    }
   ],
   "source": [
    "# Try looking up the docstring on query to see some details on how it is used.\n",
    "states.query?"
   ]
  },
  {
   "cell_type": "markdown",
   "metadata": {},
   "source": [
    "This is just a taste of some of the most useful functionality in Pandas. For a full overview of all pandas functionality, check out this tutorial: https://jakevdp.github.io/PythonDataScienceHandbook/03.00-introduction-to-pandas.html"
   ]
  },
  {
   "cell_type": "markdown",
   "metadata": {},
   "source": [
    "### Assignment 1\n",
    "\n",
    "While solving this assignment, do your best to write code which would work just as well if you swapped out your analysis file with a file from a completely different subject or session.  This means don't hard-code values, but use elements of the data, as variables, to make the computer do the work of extracting what you are looking for.  Consult the docstrings and online documentation as needed to familiarize yourself with the libraries used.\n",
    "\n",
    "1. Use the Pandas CSV file reader, pd.read_csv, to open sample_files/R1292E_FR1_0_channels.csv as a Pandas DataFrame, where each row will be an intracranial EEG channel.  Examine the columns, and use the Stein Region column to extract a DataFrame of channels in the CA1 region of the hippocampus.  How many channels are in your CA1 DataFrame?\n",
    "\n",
    "2. Compare the mni.x, mni.y, and mni.z coordinate columns of the CA1 channels, and answer the question of which coordinate reveals the left versus the right hemisphere.\n",
    "\n",
    "3. Use the mni coordinate you found to make a boolean mask for separating your channels into two DataFrames, corresponding to left versus right hemisphere CA1 channels, and then create numpy arrays directly from each Pandas Series for the mni coordinates.  Use numpy to evaluate the mean and standard deviation of each coordinate axis for the left and right hemisphere CA1 channels.  Be certain that you have used a sample standard deviation, and not a population standard deviation.  If you detect any bias between these values other than that of hemisphere, consider how the data was acquired, and provide an explanation for why that might have happened.\n",
    "\n",
    "4. If time remains, use matplotlib to generate a 3D scatter plot of all the CA1 channel mni coordinates."
   ]
  },
  {
   "cell_type": "code",
   "execution_count": 166,
   "metadata": {},
   "outputs": [],
   "source": [
    "import pandas as pd\n",
    "from pathlib import Path\n",
    "\n",
    "DATA_FILE = Path.cwd() / 'sample_files' / 'R1292E_FR1_0_channels.csv'\n",
    "data = pd.read_csv(DATA_FILE)"
   ]
  },
  {
   "cell_type": "code",
   "execution_count": 173,
   "metadata": {},
   "outputs": [
    {
     "data": {
      "text/html": [
       "<div>\n",
       "<style scoped>\n",
       "    .dataframe tbody tr th:only-of-type {\n",
       "        vertical-align: middle;\n",
       "    }\n",
       "\n",
       "    .dataframe tbody tr th {\n",
       "        vertical-align: top;\n",
       "    }\n",
       "\n",
       "    .dataframe thead th {\n",
       "        text-align: right;\n",
       "    }\n",
       "</style>\n",
       "<table border=\"1\" class=\"dataframe\">\n",
       "  <thead>\n",
       "    <tr style=\"text-align: right;\">\n",
       "      <th></th>\n",
       "      <th>contact_1</th>\n",
       "      <th>contact_2</th>\n",
       "      <th>label</th>\n",
       "      <th>id</th>\n",
       "      <th>is_explicit</th>\n",
       "      <th>is_stim_only</th>\n",
       "      <th>type_1</th>\n",
       "      <th>type_2</th>\n",
       "      <th>avg.region</th>\n",
       "      <th>avg.x</th>\n",
       "      <th>...</th>\n",
       "      <th>stein.x</th>\n",
       "      <th>stein.y</th>\n",
       "      <th>stein.z</th>\n",
       "      <th>das.region</th>\n",
       "      <th>das.x</th>\n",
       "      <th>das.y</th>\n",
       "      <th>das.z</th>\n",
       "      <th>mni.x</th>\n",
       "      <th>mni.y</th>\n",
       "      <th>mni.z</th>\n",
       "    </tr>\n",
       "  </thead>\n",
       "  <tbody>\n",
       "    <tr>\n",
       "      <th>0</th>\n",
       "      <td>1</td>\n",
       "      <td>2</td>\n",
       "      <td>1LD1-1LD2</td>\n",
       "      <td>1ld.1-1ld.2</td>\n",
       "      <td>False</td>\n",
       "      <td>False</td>\n",
       "      <td>D</td>\n",
       "      <td>D</td>\n",
       "      <td>NaN</td>\n",
       "      <td>-16.785</td>\n",
       "      <td>...</td>\n",
       "      <td>NaN</td>\n",
       "      <td>NaN</td>\n",
       "      <td>NaN</td>\n",
       "      <td>CA1</td>\n",
       "      <td>NaN</td>\n",
       "      <td>NaN</td>\n",
       "      <td>NaN</td>\n",
       "      <td>-20.24610</td>\n",
       "      <td>-6.42595</td>\n",
       "      <td>-20.024903</td>\n",
       "    </tr>\n",
       "    <tr>\n",
       "      <th>2</th>\n",
       "      <td>3</td>\n",
       "      <td>4</td>\n",
       "      <td>1LD3-1LD4</td>\n",
       "      <td>1ld.3-1ld.4</td>\n",
       "      <td>False</td>\n",
       "      <td>False</td>\n",
       "      <td>D</td>\n",
       "      <td>D</td>\n",
       "      <td>NaN</td>\n",
       "      <td>-27.720</td>\n",
       "      <td>...</td>\n",
       "      <td>NaN</td>\n",
       "      <td>NaN</td>\n",
       "      <td>NaN</td>\n",
       "      <td>CA1</td>\n",
       "      <td>NaN</td>\n",
       "      <td>NaN</td>\n",
       "      <td>NaN</td>\n",
       "      <td>-32.68740</td>\n",
       "      <td>-7.16327</td>\n",
       "      <td>-22.778101</td>\n",
       "    </tr>\n",
       "    <tr>\n",
       "      <th>10</th>\n",
       "      <td>12</td>\n",
       "      <td>13</td>\n",
       "      <td>3LD2-3LD3</td>\n",
       "      <td>3ld.2-3ld.3</td>\n",
       "      <td>False</td>\n",
       "      <td>False</td>\n",
       "      <td>D</td>\n",
       "      <td>D</td>\n",
       "      <td>NaN</td>\n",
       "      <td>-26.190</td>\n",
       "      <td>...</td>\n",
       "      <td>NaN</td>\n",
       "      <td>NaN</td>\n",
       "      <td>NaN</td>\n",
       "      <td>CA1</td>\n",
       "      <td>NaN</td>\n",
       "      <td>NaN</td>\n",
       "      <td>NaN</td>\n",
       "      <td>-29.86845</td>\n",
       "      <td>-19.21890</td>\n",
       "      <td>-20.196637</td>\n",
       "    </tr>\n",
       "    <tr>\n",
       "      <th>27</th>\n",
       "      <td>31</td>\n",
       "      <td>32</td>\n",
       "      <td>4RD2-4RD3</td>\n",
       "      <td>4rd.2-4rd.3</td>\n",
       "      <td>False</td>\n",
       "      <td>False</td>\n",
       "      <td>D</td>\n",
       "      <td>D</td>\n",
       "      <td>NaN</td>\n",
       "      <td>32.760</td>\n",
       "      <td>...</td>\n",
       "      <td>NaN</td>\n",
       "      <td>NaN</td>\n",
       "      <td>NaN</td>\n",
       "      <td>CA1</td>\n",
       "      <td>NaN</td>\n",
       "      <td>NaN</td>\n",
       "      <td>NaN</td>\n",
       "      <td>33.76035</td>\n",
       "      <td>-13.37490</td>\n",
       "      <td>-21.785314</td>\n",
       "    </tr>\n",
       "    <tr>\n",
       "      <th>32</th>\n",
       "      <td>37</td>\n",
       "      <td>38</td>\n",
       "      <td>6RD1-6RD2</td>\n",
       "      <td>6rd.1-6rd.2</td>\n",
       "      <td>False</td>\n",
       "      <td>False</td>\n",
       "      <td>D</td>\n",
       "      <td>D</td>\n",
       "      <td>NaN</td>\n",
       "      <td>29.115</td>\n",
       "      <td>...</td>\n",
       "      <td>NaN</td>\n",
       "      <td>NaN</td>\n",
       "      <td>NaN</td>\n",
       "      <td>CA1</td>\n",
       "      <td>NaN</td>\n",
       "      <td>NaN</td>\n",
       "      <td>NaN</td>\n",
       "      <td>28.86215</td>\n",
       "      <td>-20.43510</td>\n",
       "      <td>-19.735786</td>\n",
       "    </tr>\n",
       "    <tr>\n",
       "      <th>33</th>\n",
       "      <td>38</td>\n",
       "      <td>39</td>\n",
       "      <td>6RD2-6RD3</td>\n",
       "      <td>6rd.2-6rd.3</td>\n",
       "      <td>False</td>\n",
       "      <td>False</td>\n",
       "      <td>D</td>\n",
       "      <td>D</td>\n",
       "      <td>NaN</td>\n",
       "      <td>34.850</td>\n",
       "      <td>...</td>\n",
       "      <td>NaN</td>\n",
       "      <td>NaN</td>\n",
       "      <td>NaN</td>\n",
       "      <td>CA1</td>\n",
       "      <td>NaN</td>\n",
       "      <td>NaN</td>\n",
       "      <td>NaN</td>\n",
       "      <td>34.86890</td>\n",
       "      <td>-20.90070</td>\n",
       "      <td>-19.529637</td>\n",
       "    </tr>\n",
       "    <tr>\n",
       "      <th>40</th>\n",
       "      <td>46</td>\n",
       "      <td>47</td>\n",
       "      <td>8RD2-8RD3</td>\n",
       "      <td>8rd.2-8rd.3</td>\n",
       "      <td>False</td>\n",
       "      <td>False</td>\n",
       "      <td>D</td>\n",
       "      <td>D</td>\n",
       "      <td>parahippocampal</td>\n",
       "      <td>31.705</td>\n",
       "      <td>...</td>\n",
       "      <td>NaN</td>\n",
       "      <td>NaN</td>\n",
       "      <td>NaN</td>\n",
       "      <td>CA1</td>\n",
       "      <td>NaN</td>\n",
       "      <td>NaN</td>\n",
       "      <td>NaN</td>\n",
       "      <td>29.45740</td>\n",
       "      <td>-30.90740</td>\n",
       "      <td>-13.723440</td>\n",
       "    </tr>\n",
       "    <tr>\n",
       "      <th>41</th>\n",
       "      <td>47</td>\n",
       "      <td>48</td>\n",
       "      <td>8RD3-8RD4</td>\n",
       "      <td>8rd.3-8rd.4</td>\n",
       "      <td>False</td>\n",
       "      <td>False</td>\n",
       "      <td>D</td>\n",
       "      <td>D</td>\n",
       "      <td>fusiform</td>\n",
       "      <td>36.300</td>\n",
       "      <td>...</td>\n",
       "      <td>NaN</td>\n",
       "      <td>NaN</td>\n",
       "      <td>NaN</td>\n",
       "      <td>CA1</td>\n",
       "      <td>NaN</td>\n",
       "      <td>NaN</td>\n",
       "      <td>NaN</td>\n",
       "      <td>33.87955</td>\n",
       "      <td>-34.57090</td>\n",
       "      <td>-12.056323</td>\n",
       "    </tr>\n",
       "  </tbody>\n",
       "</table>\n",
       "<p>8 rows × 43 columns</p>\n",
       "</div>"
      ],
      "text/plain": [
       "    contact_1  contact_2      label           id  is_explicit  is_stim_only  \\\n",
       "0           1          2  1LD1-1LD2  1ld.1-1ld.2        False         False   \n",
       "2           3          4  1LD3-1LD4  1ld.3-1ld.4        False         False   \n",
       "10         12         13  3LD2-3LD3  3ld.2-3ld.3        False         False   \n",
       "27         31         32  4RD2-4RD3  4rd.2-4rd.3        False         False   \n",
       "32         37         38  6RD1-6RD2  6rd.1-6rd.2        False         False   \n",
       "33         38         39  6RD2-6RD3  6rd.2-6rd.3        False         False   \n",
       "40         46         47  8RD2-8RD3  8rd.2-8rd.3        False         False   \n",
       "41         47         48  8RD3-8RD4  8rd.3-8rd.4        False         False   \n",
       "\n",
       "   type_1 type_2       avg.region   avg.x  ...  stein.x  stein.y stein.z  \\\n",
       "0       D      D              NaN -16.785  ...      NaN      NaN     NaN   \n",
       "2       D      D              NaN -27.720  ...      NaN      NaN     NaN   \n",
       "10      D      D              NaN -26.190  ...      NaN      NaN     NaN   \n",
       "27      D      D              NaN  32.760  ...      NaN      NaN     NaN   \n",
       "32      D      D              NaN  29.115  ...      NaN      NaN     NaN   \n",
       "33      D      D              NaN  34.850  ...      NaN      NaN     NaN   \n",
       "40      D      D  parahippocampal  31.705  ...      NaN      NaN     NaN   \n",
       "41      D      D         fusiform  36.300  ...      NaN      NaN     NaN   \n",
       "\n",
       "    das.region  das.x  das.y das.z     mni.x     mni.y      mni.z  \n",
       "0          CA1    NaN    NaN   NaN -20.24610  -6.42595 -20.024903  \n",
       "2          CA1    NaN    NaN   NaN -32.68740  -7.16327 -22.778101  \n",
       "10         CA1    NaN    NaN   NaN -29.86845 -19.21890 -20.196637  \n",
       "27         CA1    NaN    NaN   NaN  33.76035 -13.37490 -21.785314  \n",
       "32         CA1    NaN    NaN   NaN  28.86215 -20.43510 -19.735786  \n",
       "33         CA1    NaN    NaN   NaN  34.86890 -20.90070 -19.529637  \n",
       "40         CA1    NaN    NaN   NaN  29.45740 -30.90740 -13.723440  \n",
       "41         CA1    NaN    NaN   NaN  33.87955 -34.57090 -12.056323  \n",
       "\n",
       "[8 rows x 43 columns]"
      ]
     },
     "execution_count": 173,
     "metadata": {},
     "output_type": "execute_result"
    }
   ],
   "source": [
    "ca1 = data[data['das.region'] == 'CA1']\n",
    "ca1"
   ]
  },
  {
   "cell_type": "code",
   "execution_count": 174,
   "metadata": {},
   "outputs": [
    {
     "data": {
      "text/html": [
       "<div>\n",
       "<style scoped>\n",
       "    .dataframe tbody tr th:only-of-type {\n",
       "        vertical-align: middle;\n",
       "    }\n",
       "\n",
       "    .dataframe tbody tr th {\n",
       "        vertical-align: top;\n",
       "    }\n",
       "\n",
       "    .dataframe thead th {\n",
       "        text-align: right;\n",
       "    }\n",
       "</style>\n",
       "<table border=\"1\" class=\"dataframe\">\n",
       "  <thead>\n",
       "    <tr style=\"text-align: right;\">\n",
       "      <th></th>\n",
       "      <th>label</th>\n",
       "      <th>mni.x</th>\n",
       "      <th>mni.y</th>\n",
       "      <th>mni.z</th>\n",
       "    </tr>\n",
       "  </thead>\n",
       "  <tbody>\n",
       "    <tr>\n",
       "      <th>0</th>\n",
       "      <td>1LD1-1LD2</td>\n",
       "      <td>-20.24610</td>\n",
       "      <td>-6.42595</td>\n",
       "      <td>-20.024903</td>\n",
       "    </tr>\n",
       "    <tr>\n",
       "      <th>2</th>\n",
       "      <td>1LD3-1LD4</td>\n",
       "      <td>-32.68740</td>\n",
       "      <td>-7.16327</td>\n",
       "      <td>-22.778101</td>\n",
       "    </tr>\n",
       "    <tr>\n",
       "      <th>10</th>\n",
       "      <td>3LD2-3LD3</td>\n",
       "      <td>-29.86845</td>\n",
       "      <td>-19.21890</td>\n",
       "      <td>-20.196637</td>\n",
       "    </tr>\n",
       "    <tr>\n",
       "      <th>27</th>\n",
       "      <td>4RD2-4RD3</td>\n",
       "      <td>33.76035</td>\n",
       "      <td>-13.37490</td>\n",
       "      <td>-21.785314</td>\n",
       "    </tr>\n",
       "    <tr>\n",
       "      <th>32</th>\n",
       "      <td>6RD1-6RD2</td>\n",
       "      <td>28.86215</td>\n",
       "      <td>-20.43510</td>\n",
       "      <td>-19.735786</td>\n",
       "    </tr>\n",
       "    <tr>\n",
       "      <th>33</th>\n",
       "      <td>6RD2-6RD3</td>\n",
       "      <td>34.86890</td>\n",
       "      <td>-20.90070</td>\n",
       "      <td>-19.529637</td>\n",
       "    </tr>\n",
       "    <tr>\n",
       "      <th>40</th>\n",
       "      <td>8RD2-8RD3</td>\n",
       "      <td>29.45740</td>\n",
       "      <td>-30.90740</td>\n",
       "      <td>-13.723440</td>\n",
       "    </tr>\n",
       "    <tr>\n",
       "      <th>41</th>\n",
       "      <td>8RD3-8RD4</td>\n",
       "      <td>33.87955</td>\n",
       "      <td>-34.57090</td>\n",
       "      <td>-12.056323</td>\n",
       "    </tr>\n",
       "  </tbody>\n",
       "</table>\n",
       "</div>"
      ],
      "text/plain": [
       "        label     mni.x     mni.y      mni.z\n",
       "0   1LD1-1LD2 -20.24610  -6.42595 -20.024903\n",
       "2   1LD3-1LD4 -32.68740  -7.16327 -22.778101\n",
       "10  3LD2-3LD3 -29.86845 -19.21890 -20.196637\n",
       "27  4RD2-4RD3  33.76035 -13.37490 -21.785314\n",
       "32  6RD1-6RD2  28.86215 -20.43510 -19.735786\n",
       "33  6RD2-6RD3  34.86890 -20.90070 -19.529637\n",
       "40  8RD2-8RD3  29.45740 -30.90740 -13.723440\n",
       "41  8RD3-8RD4  33.87955 -34.57090 -12.056323"
      ]
     },
     "execution_count": 174,
     "metadata": {},
     "output_type": "execute_result"
    }
   ],
   "source": [
    "mni_cols = ['mni.x', 'mni.y', 'mni.z']\n",
    "ca1[['label', *mni_cols]]"
   ]
  },
  {
   "cell_type": "code",
   "execution_count": 175,
   "metadata": {},
   "outputs": [
    {
     "name": "stdout",
     "output_type": "stream",
     "text": [
      "Coordinate x y z\n",
      "left mean [-27.60065    -10.93604    -20.99988006]\n",
      "left std [6.52331772 7.18263444 1.54237616]\n",
      "right mean [ 32.16567    -24.0378     -17.36610002]\n",
      "right std [2.78548973 8.5827717  4.22162438]\n"
     ]
    }
   ],
   "source": [
    "left_ca1 = ca1.loc[ca1['mni.x'] < 0, mni_cols].to_numpy()\n",
    "right_ca1 = ca1.loc[ca1['mni.x'] >= 0, mni_cols].to_numpy()\n",
    "\n",
    "print('Coordinate', 'x', 'y', 'z')\n",
    "print('left mean', left_ca1.mean(axis=0))\n",
    "print('left std', left_ca1.std(axis=0, ddof=1))\n",
    "print('right mean', right_ca1.mean(axis=0))\n",
    "print('right std', right_ca1.std(axis=0, ddof=1))"
   ]
  },
  {
   "cell_type": "code",
   "execution_count": 176,
   "metadata": {},
   "outputs": [
    {
     "data": {
      "text/plain": [
       "<mpl_toolkits.mplot3d.art3d.Path3DCollection at 0x2abb837d9990>"
      ]
     },
     "execution_count": 176,
     "metadata": {},
     "output_type": "execute_result"
    },
    {
     "data": {
      "image/png": "[encoded data removed]",
      "text/plain": [
       "<Figure size 432x288 with 1 Axes>"
      ]
     },
     "metadata": {},
     "output_type": "display_data"
    }
   ],
   "source": [
    "fig = plt.figure()\n",
    "ax = fig.add_subplot(111, projection='3d')\n",
    "ax.scatter(ca1['mni.x'], ca1['mni.y'], ca1['mni.z'])"
   ]
  },
  {
   "cell_type": "code",
   "execution_count": null,
   "metadata": {},
   "outputs": [],
   "source": []
  }
 ],
 "metadata": {
  "kernelspec": {
   "display_name": "workshop",
   "language": "python",
   "name": "workshop"
  },
  "language_info": {
   "codemirror_mode": {
    "name": "ipython",
    "version": 3
   },
   "file_extension": ".py",
   "mimetype": "text/x-python",
   "name": "python",
   "nbconvert_exporter": "python",
   "pygments_lexer": "ipython3",
   "version": "3.7.7"
  }
 },
 "nbformat": 4,
 "nbformat_minor": 4
}
